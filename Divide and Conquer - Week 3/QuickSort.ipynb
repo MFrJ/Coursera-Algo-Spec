{
 "cells": [
  {
   "cell_type": "code",
   "execution_count": 241,
   "metadata": {},
   "outputs": [],
   "source": [
    "from numpy import random\n",
    "def naive_quick_sort(arr: list) -> list:\n",
    "   # print(arr)\n",
    "    if len(arr) <= 1:\n",
    "        return arr\n",
    "    \n",
    "    pivot = arr[0]\n",
    "    \n",
    "    arr, ind = partition(arr)\n",
    "    #print(ind)\n",
    "    \n",
    "    #print(naive_quick_sort(arr[:ind]) + [pivot] + naive_quick_sort(arr[ind+1:]))\n",
    "    \n",
    "    return naive_quick_sort(arr[:ind]) + [pivot] + naive_quick_sort(arr[ind+1:])\n",
    "\n",
    "\n",
    "def partition(arr: list) -> list:\n",
    "    \n",
    "    start = 1\n",
    "    pivot = arr[0]\n",
    "    i = 1\n",
    "    \n",
    "    #invariant : for i < start, arr[i] <= pivot\n",
    "    \n",
    "    while i < len(arr) and arr[i] <= pivot:\n",
    "        i += 1\n",
    "        start += 1\n",
    "    #print(i, start)\n",
    "    \n",
    "    while i < len(arr):\n",
    "        if arr[i] <= pivot:\n",
    "            arr[i], arr[start] = arr[start], arr[i]\n",
    "            start += 1\n",
    "        i += 1\n",
    "    \n",
    "    arr[0], arr[start-1] = arr[start-1], arr[0]\n",
    "    \n",
    "    return arr,start-1\n",
    "            \n",
    "    \n",
    "    \n",
    "    \n",
    "    "
   ]
  },
  {
   "cell_type": "code",
   "execution_count": 242,
   "metadata": {},
   "outputs": [
    {
     "name": "stdout",
     "output_type": "stream",
     "text": [
      "[ 3 12  1 18  6  7 13 11  5  5]\n"
     ]
    }
   ],
   "source": [
    "a = random.randint(20, size=10)\n",
    "b = [1, 2, 10, 19, 3, 14, 14, 12, 14, 16]\n",
    "print(a)\n",
    "a = list(a)"
   ]
  },
  {
   "cell_type": "code",
   "execution_count": 243,
   "metadata": {},
   "outputs": [
    {
     "name": "stdout",
     "output_type": "stream",
     "text": [
      "[1, 3, 5, 5, 6, 7, 11, 12, 13, 18]\n"
     ]
    }
   ],
   "source": [
    "print(naive_quick_sort(a))"
   ]
  },
  {
   "cell_type": "code",
   "execution_count": 244,
   "metadata": {},
   "outputs": [
    {
     "data": {
      "text/plain": [
       "True"
      ]
     },
     "execution_count": 244,
     "metadata": {},
     "output_type": "execute_result"
    }
   ],
   "source": [
    "sorted(a) == naive_quick_sort(a)"
   ]
  },
  {
   "cell_type": "code",
   "execution_count": 245,
   "metadata": {},
   "outputs": [
    {
     "name": "stdout",
     "output_type": "stream",
     "text": [
      "done!\n"
     ]
    }
   ],
   "source": [
    "for i in range(3000):\n",
    "    a = list(random.randint(20, size=i))\n",
    "    if sorted(a) != naive_quick_sort(a):\n",
    "        print('oops!')\n",
    "        print('correct is {}, given is {}', sorted(a), naive_quick_sort(a))\n",
    "print('done!')"
   ]
  },
  {
   "cell_type": "code",
   "execution_count": null,
   "metadata": {},
   "outputs": [],
   "source": []
  }
 ],
 "metadata": {
  "kernelspec": {
   "display_name": "Python 3",
   "language": "python",
   "name": "python3"
  },
  "language_info": {
   "codemirror_mode": {
    "name": "ipython",
    "version": 3
   },
   "file_extension": ".py",
   "mimetype": "text/x-python",
   "name": "python",
   "nbconvert_exporter": "python",
   "pygments_lexer": "ipython3",
   "version": "3.6.9"
  }
 },
 "nbformat": 4,
 "nbformat_minor": 2
}
