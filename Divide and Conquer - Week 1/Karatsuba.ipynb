{
 "cells": [
  {
   "cell_type": "code",
   "execution_count": 141,
   "metadata": {},
   "outputs": [],
   "source": [
    "def Karatsuba(x, y):\n",
    "    \n",
    "    x = str(x)\n",
    "    y = str(y)\n",
    "    \n",
    "    k = len(max(x, y, key=len))\n",
    "    \n",
    "    if k % 2 != 0 and k != 1:\n",
    "        k += 1\n",
    "    \n",
    "    while len(x) < k:\n",
    "        x = '0' + x\n",
    "    \n",
    "    while k > len(y):\n",
    "        y = '0' + y\n",
    "        \n",
    "    n = len(x)\n",
    "    #print(n)\n",
    "    if n < 2:\n",
    "        return int(x) * int(y)\n",
    "    \n",
    "    \n",
    "    a = get_first_half(str(x))\n",
    "    b = get_last_half(str(x))\n",
    "    c = get_first_half(str(y))\n",
    "    d = get_last_half(str(y))\n",
    "     \n",
    "    a_c = Karatsuba(a, c)\n",
    "    b_d = Karatsuba(b, d)\n",
    "    gauss = Karatsuba(a+b, c+d)\n",
    "    \n",
    "    aux = gauss - a_c - b_d\n",
    "    \n",
    "    return a_c*(10**(n)) + aux * (10**(n//2)) + b_d\n",
    "\n",
    "\n",
    "def get_first_half(n):\n",
    "    k = len(n)\n",
    "    if k % 2 != 0:\n",
    "        n = '0' + n\n",
    "        k = len(n)\n",
    "    \n",
    "    return int(n[:k//2])\n",
    "        \n",
    "def get_last_half(n):\n",
    "    k = len(n)\n",
    "    if k % 2 != 0:\n",
    "        n = '0' + n\n",
    "        k = len(n)\n",
    "    \n",
    "    return int(n[k//2:])\n",
    "\n",
    "\n",
    "    \n",
    "    \n",
    "    "
   ]
  },
  {
   "cell_type": "code",
   "execution_count": 142,
   "metadata": {},
   "outputs": [
    {
     "data": {
      "text/plain": [
       "8539734222673567065463550869546574495034888535765114961879601127067743044893204848617875072216249073013374895871952806582723184"
      ]
     },
     "execution_count": 142,
     "metadata": {},
     "output_type": "execute_result"
    }
   ],
   "source": [
    "a = 3141592653589793238462643383279502884197169399375105820974944592\n",
    "b = 2718281828459045235360287471352662497757247093699959574966967627\n",
    "a * b"
   ]
  },
  {
   "cell_type": "code",
   "execution_count": 143,
   "metadata": {},
   "outputs": [
    {
     "data": {
      "text/plain": [
       "8539734222673567065463550869546574495034888535765114961879601127067743044893204848617875072216249073013374895871952806582723184"
      ]
     },
     "execution_count": 143,
     "metadata": {},
     "output_type": "execute_result"
    }
   ],
   "source": [
    "Karatsuba(a,b)"
   ]
  },
  {
   "cell_type": "code",
   "execution_count": null,
   "metadata": {},
   "outputs": [],
   "source": []
  },
  {
   "cell_type": "code",
   "execution_count": null,
   "metadata": {},
   "outputs": [],
   "source": []
  },
  {
   "cell_type": "code",
   "execution_count": null,
   "metadata": {},
   "outputs": [],
   "source": []
  }
 ],
 "metadata": {
  "kernelspec": {
   "display_name": "Python 3",
   "language": "python",
   "name": "python3"
  },
  "language_info": {
   "codemirror_mode": {
    "name": "ipython",
    "version": 3
   },
   "file_extension": ".py",
   "mimetype": "text/x-python",
   "name": "python",
   "nbconvert_exporter": "python",
   "pygments_lexer": "ipython3",
   "version": "3.6.9"
  }
 },
 "nbformat": 4,
 "nbformat_minor": 2
}
