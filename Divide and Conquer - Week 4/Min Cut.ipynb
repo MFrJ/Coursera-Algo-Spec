{
 "cells": [
  {
   "cell_type": "code",
   "execution_count": 62,
   "metadata": {},
   "outputs": [],
   "source": [
    "class Node:\n",
    "    \n",
    "    def __init__(self, label=None):\n",
    "        self.label = label\n",
    "        self.edges = []\n",
    "        \n",
    "    def __str__(self):\n",
    "        return 'Node: ' + str(self.label) \n",
    "    \n",
    "    def print_edges(self):\n",
    "        print('Edges:' )\n",
    "        for node in self.edges:\n",
    "            print(node)\n",
    "            \n",
    "    def edge_size(self):\n",
    "        print(len(self.edges))"
   ]
  },
  {
   "cell_type": "code",
   "execution_count": 63,
   "metadata": {},
   "outputs": [],
   "source": [
    "    def get_nodes(): \n",
    "        nodes = []\n",
    "        d = {}\n",
    "        with open('data.txt', 'r') as data:\n",
    "            for line in data:\n",
    "                label, edges = line.split('\\t', 1)\n",
    "                if label in d:\n",
    "                    node = d[label]\n",
    "                else:\n",
    "                    node = Node(int(label))\n",
    "                    d[label] = node\n",
    "\n",
    "                for edge in edges.split('\\t')[:-1]:\n",
    "                    edge = int(edge)\n",
    "                    if edge in d:\n",
    "                        new_node = d[edge]\n",
    "                    else:\n",
    "                        new_node = Node(edge)\n",
    "                        d[edge] = new_node\n",
    "                    if new_node not in node.edges:\n",
    "                        node.edges.append(new_node)\n",
    "                nodes.append(node)\n",
    "        return nodes\n"
   ]
  },
  {
   "cell_type": "code",
   "execution_count": 64,
   "metadata": {},
   "outputs": [
    {
     "name": "stdout",
     "output_type": "stream",
     "text": [
      "2\n"
     ]
    }
   ],
   "source": [
    "print(len(nodes))"
   ]
  },
  {
   "cell_type": "code",
   "execution_count": 82,
   "metadata": {},
   "outputs": [],
   "source": [
    "import random\n",
    "\n",
    "def random_contraction(nodes):\n",
    "    while len(nodes) > 2:\n",
    "       \n",
    "        node1 = random.choice(nodes)\n",
    "        node2 = random.choice(node1.edges)\n",
    "        \n",
    "        for node in nodes:\n",
    "            if node != node1 and node != node2:\n",
    "                node.edges.append(node1)\n",
    "                node.edges = [x for x in node.edges if x != node2]\n",
    "        node1.edges = [x for x in node1.edges + node2.edges if x != node1 and x != node2]\n",
    "        if node2 in nodes:\n",
    "            nodes.remove(node2)\n",
    "    return len(set(nodes[0].edges))\n",
    "\n",
    "  \n",
    "        \n",
    "        \n",
    "        "
   ]
  },
  {
   "cell_type": "code",
   "execution_count": 9,
   "metadata": {},
   "outputs": [],
   "source": [
    "import random"
   ]
  },
  {
   "cell_type": "code",
   "execution_count": 37,
   "metadata": {},
   "outputs": [],
   "source": [
    "def read_data():\n",
    "    edgeset = []\n",
    "    with open('test.txt', 'r') as data:\n",
    "        for line in data:\n",
    "            label, edges = line.split(' ', 1)\n",
    "            label = int(label)\n",
    "            for edge in edges.split(' ')[:-1]:\n",
    "                edge = int(edge)\n",
    "                edgeset.append([label, edge])\n",
    "            \n",
    "    return edgeset\n",
    "\n",
    "    "
   ]
  },
  {
   "cell_type": "code",
   "execution_count": 40,
   "metadata": {},
   "outputs": [],
   "source": [
    "def random_set_contraction(edgeset):\n",
    "    #vertexes = [x for x in range(1, 201)]\n",
    "    vertexes = [x for x in range(1, 201)]\n",
    "    a = True\n",
    "    while len(vertexes) > 2:\n",
    "        edge = random.choice(list(edgeset))\n",
    "        fst, sec = edge[0], edge[1]\n",
    "        vertexes.remove(sec)\n",
    "        for elem in edgeset:\n",
    "            if sec in elem:\n",
    "                elem.remove(sec)\n",
    "                elem.append(fst)\n",
    "        edgeset = [x for x in edgeset if x[0] != x[1]]\n",
    "    return edgeset\n",
    "                \n",
    "        "
   ]
  },
  {
   "cell_type": "code",
   "execution_count": 41,
   "metadata": {},
   "outputs": [
    {
     "name": "stdout",
     "output_type": "stream",
     "text": [
      "107\n"
     ]
    }
   ],
   "source": [
    "val = 99999\n",
    "for i in range(100):\n",
    "    data = read_data()\n",
    "    random.seed()\n",
    "    val = min(len(random_set_contraction(data)), val)\n",
    "print(val)"
   ]
  },
  {
   "cell_type": "code",
   "execution_count": null,
   "metadata": {},
   "outputs": [],
   "source": []
  },
  {
   "cell_type": "code",
   "execution_count": null,
   "metadata": {},
   "outputs": [],
   "source": []
  },
  {
   "cell_type": "code",
   "execution_count": null,
   "metadata": {},
   "outputs": [],
   "source": []
  }
 ],
 "metadata": {
  "kernelspec": {
   "display_name": "Python 3",
   "language": "python",
   "name": "python3"
  },
  "language_info": {
   "codemirror_mode": {
    "name": "ipython",
    "version": 3
   },
   "file_extension": ".py",
   "mimetype": "text/x-python",
   "name": "python",
   "nbconvert_exporter": "python",
   "pygments_lexer": "ipython3",
   "version": "3.6.9"
  }
 },
 "nbformat": 4,
 "nbformat_minor": 2
}
