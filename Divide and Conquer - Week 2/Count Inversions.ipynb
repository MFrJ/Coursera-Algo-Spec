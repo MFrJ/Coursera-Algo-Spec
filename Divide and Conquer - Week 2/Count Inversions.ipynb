{
 "cells": [
  {
   "cell_type": "code",
   "execution_count": 8,
   "metadata": {},
   "outputs": [],
   "source": [
    "def sort_and_count_inversions(lst):\n",
    "    \n",
    "    n = len(lst)\n",
    "    #print(type(lst))\n",
    "    \n",
    "    if n < 2:\n",
    "        return (0, lst)\n",
    "    \n",
    "    left, lower = sort_and_count_inversions(lst[:n//2])\n",
    "    right, upper = sort_and_count_inversions(lst[n//2:])\n",
    "    \n",
    "    split, merged = merge_and_count_inv(lower, upper)\n",
    "    \n",
    "    return (split + left + right, merged)\n",
    "\n",
    "\n",
    "def merge_and_count_inv(lower, upper):\n",
    "    \n",
    "    n = len(lower)\n",
    "    m = len(upper)\n",
    "    merged = [0]*(n+m)\n",
    "    i = j = 0\n",
    "    count = 0\n",
    "    while i < n and j < m:\n",
    "        \n",
    "        if lower[i] <= upper[j]:\n",
    "            merged[i+j] = lower[i]\n",
    "            i += 1\n",
    "        else:\n",
    "            merged[i+j] = upper[j]\n",
    "            count += n - i\n",
    "            j += 1\n",
    "            \n",
    "    while i < n:\n",
    "        merged[i+j] = lower[i]\n",
    "        i += 1\n",
    "    \n",
    "    while j < m:\n",
    "        merged[i+j] = upper[j]\n",
    "        j += 1\n",
    "        \n",
    "    return (count, merged)"
   ]
  },
  {
   "cell_type": "code",
   "execution_count": 13,
   "metadata": {},
   "outputs": [
    {
     "data": {
      "text/plain": [
       "(3, [1, 2, 3, 4, 5, 6])"
      ]
     },
     "execution_count": 13,
     "metadata": {},
     "output_type": "execute_result"
    }
   ],
   "source": [
    "sort_and_count_inversions([1,3,5,2,4,6])"
   ]
  },
  {
   "cell_type": "code",
   "execution_count": 17,
   "metadata": {},
   "outputs": [
    {
     "name": "stdout",
     "output_type": "stream",
     "text": [
      "100000\n"
     ]
    }
   ],
   "source": [
    "nums = []\n",
    "with open('data.txt', 'r') as data:\n",
    "    for line in data:\n",
    "        nums.append(int(line))\n",
    "        \n",
    "print(len(nums))"
   ]
  },
  {
   "cell_type": "code",
   "execution_count": 18,
   "metadata": {},
   "outputs": [
    {
     "name": "stdout",
     "output_type": "stream",
     "text": [
      "2407905288\n"
     ]
    }
   ],
   "source": [
    "print(sort_and_count_inversions(nums)[0])"
   ]
  },
  {
   "cell_type": "code",
   "execution_count": 19,
   "metadata": {},
   "outputs": [
    {
     "name": "stdout",
     "output_type": "stream",
     "text": [
      "[54044, 14108, 79294, 29649, 25260, 60660, 2995, 53777, 49689, 9083]\n"
     ]
    }
   ],
   "source": [
    "print(nums[:10])"
   ]
  },
  {
   "cell_type": "code",
   "execution_count": null,
   "metadata": {},
   "outputs": [],
   "source": []
  }
 ],
 "metadata": {
  "kernelspec": {
   "display_name": "Python 3",
   "language": "python",
   "name": "python3"
  },
  "language_info": {
   "codemirror_mode": {
    "name": "ipython",
    "version": 3
   },
   "file_extension": ".py",
   "mimetype": "text/x-python",
   "name": "python",
   "nbconvert_exporter": "python",
   "pygments_lexer": "ipython3",
   "version": "3.6.9"
  }
 },
 "nbformat": 4,
 "nbformat_minor": 2
}
